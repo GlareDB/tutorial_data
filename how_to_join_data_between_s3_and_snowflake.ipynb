{
 "cells": [
  {
   "cell_type": "code",
   "execution_count": null,
   "id": "e0704694",
   "metadata": {},
   "outputs": [],
   "source": [
    "! pip install glaredb --upgrade"
   ]
  },
  {
   "cell_type": "code",
   "execution_count": null,
   "id": "a72c293f",
   "metadata": {},
   "outputs": [],
   "source": [
    "import glaredb"
   ]
  },
  {
   "cell_type": "code",
   "execution_count": null,
   "id": "29ef27d4",
   "metadata": {},
   "outputs": [],
   "source": [
    "con = glaredb.connect()"
   ]
  },
  {
   "cell_type": "code",
   "execution_count": null,
   "id": "976197d2",
   "metadata": {},
   "outputs": [],
   "source": [
    "con.execute(\n",
    "    f\"\"\"   \n",
    "        SELECT * FROM read_parquet(\n",
    "            's3://glaredb-sandbox/769265408ff247babfa1f87baee4ef22-0.parquet',\n",
    "            access_key_id => '{aws_access_key_id}',\n",
    "            secret_access_key => '{aws_secret_access_key}',\n",
    "            region=>'us-east-2'\n",
    "        );\n",
    "    \"\"\"\n",
    ").to_pandas()"
   ]
  },
  {
   "cell_type": "code",
   "execution_count": null,
   "id": "0bdc88a4",
   "metadata": {},
   "outputs": [],
   "source": [
    "con.execute(f\"\"\"\n",
    "    SELECT * FROM \n",
    "    read_snowflake(\n",
    "    '{snowflake_account}.us-central1.gcp', \n",
    "    '{snowflake_username}',\n",
    "    '{snowflake_password}',\n",
    "    'sandbox',\n",
    "    'compute_wh',\n",
    "    'accountadmin',\n",
    "    'public',\n",
    "    'nyc_sales'\n",
    "    ) snowflake \n",
    "\"\"\").to_pandas()"
   ]
  },
  {
   "cell_type": "code",
   "execution_count": null,
   "id": "af8d9350",
   "metadata": {},
   "outputs": [],
   "source": [
    "df = con.sql(\n",
    "    f\"\"\"\n",
    "        SELECT snowflake_nyc_sales.bin,\n",
    "                snowflake_nyc_sales.address,\n",
    "                snowflake_nyc_sales.zip_code,\n",
    "                snowflake_nyc_sales.sale_date,\n",
    "                snowflake_nyc_sales.sale_price,\n",
    "                COUNT (distinct s3_tree.spc_latin) number_tree_species,\n",
    "                COUNT (s3_tree.spc_latin) number_trees\n",
    "        FROM\n",
    "            read_snowflake(\n",
    "                '{snowflake_account}.us-central1.gcp', \n",
    "                '{snowflake_username}',\n",
    "                '{snowflake_password}',\n",
    "                'sandbox',\n",
    "                'compute_wh',\n",
    "                'accountadmin',\n",
    "                'public',\n",
    "                'nyc_sales'\n",
    "            ) snowflake_nyc_sales\n",
    "        LEFT JOIN \n",
    "            read_parquet(\n",
    "                's3://glaredb-sandbox/769265408ff247babfa1f87baee4ef22-0.parquet',\n",
    "                access_key_id => '{aws_access_key_id}',\n",
    "                secret_access_key => '{aws_secret_access_key}',\n",
    "                region=>'us-east-2'\n",
    "            ) s3_tree\n",
    "        ON snowflake_nyc_sales.bin = s3_tree.bin\n",
    "        WHERE snowflake_nyc_sales.borough = 3\n",
    "        GROUP BY snowflake_nyc_sales.bin,\n",
    "                snowflake_nyc_sales.address,\n",
    "                snowflake_nyc_sales.zip_code,\n",
    "                snowflake_nyc_sales.sale_date,\n",
    "                snowflake_nyc_sales.sale_price\n",
    "        ORDER BY number_trees DESC\n",
    "    \"\"\").to_pandas()\n",
    "\n",
    "df"
   ]
  },
  {
   "cell_type": "code",
   "execution_count": null,
   "id": "ab5750a5",
   "metadata": {},
   "outputs": [],
   "source": [
    "con.execute(\"\"\"\n",
    "    SELECT count(*) FROM df WHERE number_trees > 0\n",
    "\"\"\").to_pandas()"
   ]
  }
 ],
 "metadata": {
  "kernelspec": {
   "display_name": "glaredb_test",
   "language": "python",
   "name": "glaredb_test"
  },
  "language_info": {
   "codemirror_mode": {
    "name": "ipython",
    "version": 3
   },
   "file_extension": ".py",
   "mimetype": "text/x-python",
   "name": "python",
   "nbconvert_exporter": "python",
   "pygments_lexer": "ipython3",
   "version": "3.11.9"
  }
 },
 "nbformat": 4,
 "nbformat_minor": 5
}
