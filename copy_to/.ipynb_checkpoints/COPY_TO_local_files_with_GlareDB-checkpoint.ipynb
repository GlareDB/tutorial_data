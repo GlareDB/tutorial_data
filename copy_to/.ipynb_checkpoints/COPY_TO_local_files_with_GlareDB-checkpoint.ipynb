{
 "cells": [
  {
   "cell_type": "code",
   "execution_count": 1,
   "id": "80645798",
   "metadata": {},
   "outputs": [
    {
     "name": "stdout",
     "output_type": "stream",
     "text": [
      "Requirement already satisfied: glaredb in /opt/homebrew/anaconda3/envs/glaredb_test/lib/python3.11/site-packages (0.9.3)\r\n"
     ]
    }
   ],
   "source": [
    "! pip install glaredb --upgrade"
   ]
  },
  {
   "cell_type": "code",
   "execution_count": null,
   "id": "b12badff",
   "metadata": {},
   "outputs": [],
   "source": []
  },
  {
   "cell_type": "code",
   "execution_count": 2,
   "id": "7f7f90ae",
   "metadata": {},
   "outputs": [],
   "source": [
    "import glaredb"
   ]
  },
  {
   "cell_type": "code",
   "execution_count": 8,
   "id": "1535267f",
   "metadata": {},
   "outputs": [
    {
     "name": "stdout",
     "output_type": "stream",
     "text": [
      "COPY TO local files with GlareDB.ipynb products.csv\r\n",
      "northwind.db\r\n"
     ]
    }
   ],
   "source": [
    "! ls"
   ]
  },
  {
   "cell_type": "code",
   "execution_count": 4,
   "id": "2be93700",
   "metadata": {},
   "outputs": [],
   "source": [
    "con = glaredb.connect()"
   ]
  },
  {
   "cell_type": "code",
   "execution_count": 5,
   "id": "485e8590",
   "metadata": {},
   "outputs": [
    {
     "name": "stdout",
     "output_type": "stream",
     "text": [
      "┌────────────┬─────────────────────┬─────────────┬───┬───────┬──────┬──────────┐\n",
      "│ SupplierID │ CompanyName         │ ContactName │ … │ Phone │ Fax  │ HomePage │\n",
      "│         ── │ ──                  │ ──          │   │ ──    │ ──   │ ──       │\n",
      "│      Int64 │ Utf8                │ Utf8        │   │ Utf8  │ Utf8 │ Utf8     │\n",
      "╞════════════╪═════════════════════╪═════════════╪═══╪═══════╪══════╪══════════╡\n",
      "│          1 │ Exotic Liquids      │ Charlotte … │ … │ (171… │ NULL │ NULL     │\n",
      "│          2 │ New Orleans Cajun … │ Shelley Bu… │ … │ (100… │ NULL │ #CAJUN.… │\n",
      "│          3 │ Grandma Kelly's Ho… │ Regina Mur… │ … │ (313… │ (31… │ NULL     │\n",
      "│          4 │ Tokyo Traders       │ Yoshi Naga… │ … │ (03)… │ NULL │ NULL     │\n",
      "│          5 │ Cooperativa de Que… │ Antonio de… │ … │ (98)… │ NULL │ NULL     │\n",
      "│          6 │ Mayumi's            │ Mayumi Ohno │ … │ (06)… │ NULL │ Mayumi'… │\n",
      "│          7 │ Pavlova, Ltd.       │ Ian Devling │ … │ (03)… │ (03… │ NULL     │\n",
      "│          8 │ Specialty Biscuits… │ Peter Wils… │ … │ (161… │ NULL │ NULL     │\n",
      "│          9 │ PB Knäckebröd AB    │ Lars Peter… │ … │ 031-… │ 031… │ NULL     │\n",
      "│         10 │ Refrescos American… │ Carlos Diaz │ … │ (11)… │ NULL │ NULL     │\n",
      "│          … │ …                   │ …           │ … │ …     │ …    │ …        │\n",
      "│         20 │ Leka Trading        │ Chandra Le… │ … │ 555-… │ NULL │ NULL     │\n",
      "│         21 │ Lyngbysild          │ Niels Pete… │ … │ 4384… │ 438… │ NULL     │\n",
      "│         22 │ Zaanse Snoepfabriek │ Dirk Luchte │ … │ (123… │ (12… │ NULL     │\n",
      "│         23 │ Karkki Oy           │ Anne Heikk… │ … │ (953… │ NULL │ NULL     │\n",
      "│         24 │ G'day, Mate         │ Wendy Mack… │ … │ (02)… │ (02… │ G'day M… │\n",
      "│         25 │ Ma Maison           │ Jean-Guy L… │ … │ (514… │ NULL │ NULL     │\n",
      "│         26 │ Pasta Buttini s.r.… │ Giovanni G… │ … │ (089… │ (08… │ NULL     │\n",
      "│         27 │ Escargots Nouveaux  │ Marie Dela… │ … │ 85.5… │ NULL │ NULL     │\n",
      "│         28 │ Gai pâturage        │ Eliane Noz  │ … │ 38.7… │ 38.… │ NULL     │\n",
      "│         29 │ Forêts d'érables    │ Chantal Go… │ … │ (514… │ (51… │ NULL     │\n",
      "└────────────┴─────────────────────┴─────────────┴───┴───────┴──────┴──────────┘\n",
      " 29 rows (20 shown)\n"
     ]
    }
   ],
   "source": [
    "con.sql(\"SELECT * FROM read_sqlite('./northwind.db', 'Suppliers')\").show()"
   ]
  },
  {
   "cell_type": "code",
   "execution_count": 6,
   "id": "fb277ab9",
   "metadata": {},
   "outputs": [
    {
     "name": "stdout",
     "output_type": "stream",
     "text": [
      "┌───────────┬───────────────────┬────────────┬───┬──────────────┬──────────────┐\n",
      "│ ProductID │ ProductName       │ SupplierID │ … │ ReorderLevel │ Discontinued │\n",
      "│        ── │ ──                │         ── │   │           ── │           ── │\n",
      "│     Int64 │ Utf8              │      Int64 │   │        Int64 │        Int64 │\n",
      "╞═══════════╪═══════════════════╪════════════╪═══╪══════════════╪══════════════╡\n",
      "│         1 │ Chai              │          1 │ … │           10 │            0 │\n",
      "│         2 │ Chang             │          1 │ … │           25 │            0 │\n",
      "│         3 │ Aniseed Syrup     │          1 │ … │           25 │            0 │\n",
      "│         4 │ Chef Anton's Caj… │          2 │ … │            0 │            0 │\n",
      "│         5 │ Chef Anton's Gum… │          2 │ … │            0 │            1 │\n",
      "│         6 │ Grandma's Boysen… │          3 │ … │           25 │            0 │\n",
      "│         7 │ Uncle Bob's Orga… │          3 │ … │           10 │            0 │\n",
      "│         8 │ Northwoods Cranb… │          3 │ … │            0 │            0 │\n",
      "│         9 │ Mishi Kobe Niku   │          4 │ … │            0 │            1 │\n",
      "│        10 │ Ikura             │          4 │ … │            0 │            0 │\n",
      "│         … │ …                 │          … │ … │            … │            … │\n",
      "│        68 │ Scottish Longbre… │          8 │ … │           15 │            0 │\n",
      "│        69 │ Gudbrandsdalsost  │         15 │ … │           15 │            0 │\n",
      "│        70 │ Outback Lager     │          7 │ … │           30 │            0 │\n",
      "│        71 │ Flotemysost       │         15 │ … │            0 │            0 │\n",
      "│        72 │ Mozzarella di Gi… │         14 │ … │            0 │            0 │\n",
      "│        73 │ Röd Kaviar        │         17 │ … │            5 │            0 │\n",
      "│        74 │ Longlife Tofu     │          4 │ … │            5 │            0 │\n",
      "│        75 │ Rhönbräu Klost…   │         12 │ … │           25 │            0 │\n",
      "│        76 │ Lakkalikööri      │         23 │ … │           20 │            0 │\n",
      "│        77 │ Original Frankfu… │         12 │ … │           15 │            0 │\n",
      "└───────────┴───────────────────┴────────────┴───┴──────────────┴──────────────┘\n",
      " 77 rows (20 shown)\n"
     ]
    }
   ],
   "source": [
    "con.sql(\"\"\"\n",
    "    SELECT * FROM './products.csv'\n",
    "\"\"\").show()"
   ]
  },
  {
   "cell_type": "code",
   "execution_count": 10,
   "id": "c1bca1cc",
   "metadata": {},
   "outputs": [
    {
     "data": {
      "text/plain": [
       "Noop"
      ]
     },
     "execution_count": 10,
     "metadata": {},
     "output_type": "execute_result"
    }
   ],
   "source": [
    "con.sql(\"\"\"COPY \n",
    "        (SELECT * FROM read_sqlite('./northwind.db', 'Products'))\n",
    "        TO './Pdroducts.csv'\"\"\")"
   ]
  },
  {
   "cell_type": "code",
   "execution_count": 11,
   "id": "dc3fd747",
   "metadata": {},
   "outputs": [
    {
     "name": "stdout",
     "output_type": "stream",
     "text": [
      "COPY TO local files with GlareDB.ipynb\r\n",
      "GlareDB - Join across S3 and Postgres.ipynb\r\n",
      "GlareDB and Python.ipynb\r\n",
      "Products.csv\r\n",
      "\u001b[34mglaredb_cli\u001b[m\u001b[m\r\n",
      "northwind.db\r\n",
      "write_queries_to_join_Snowflake_with_Postgres_data.ipynb\r\n"
     ]
    }
   ],
   "source": [
    "con.sql(\"\"\"\n",
    "    SELECT * FROM read_sqlite()\n",
    "\n",
    "\"\"\")"
   ]
  },
  {
   "cell_type": "code",
   "execution_count": null,
   "id": "f17c72ff",
   "metadata": {},
   "outputs": [],
   "source": []
  }
 ],
 "metadata": {
  "kernelspec": {
   "display_name": "Python 3 (ipykernel)",
   "language": "python",
   "name": "python3"
  },
  "language_info": {
   "codemirror_mode": {
    "name": "ipython",
    "version": 3
   },
   "file_extension": ".py",
   "mimetype": "text/x-python",
   "name": "python",
   "nbconvert_exporter": "python",
   "pygments_lexer": "ipython3",
   "version": "3.10.14"
  }
 },
 "nbformat": 4,
 "nbformat_minor": 5
}
